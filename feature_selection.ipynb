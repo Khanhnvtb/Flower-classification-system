{
 "cells": [
  {
   "cell_type": "code",
   "execution_count": 29,
   "metadata": {},
   "outputs": [],
   "source": [
    "from skimage.io import imread, imshow\n",
    "from skimage.transform import resize\n",
    "from skimage.feature import hog\n",
    "from skimage import exposure\n",
    "import matplotlib.pyplot as plt\n",
    "%matplotlib inline\n",
    "import math"
   ]
  },
  {
   "cell_type": "code",
   "execution_count": 30,
   "metadata": {},
   "outputs": [],
   "source": [
    "def calculateIntersection(hI, hM):\n",
    "    intersection = 0\n",
    "    for i in range(len(hI)):\n",
    "        intersection += (hI[i] - hM[i]) * (hI[i] - hM[i])\n",
    "    return math.sqrt(intersection)"
   ]
  },
  {
   "cell_type": "code",
   "execution_count": 31,
   "metadata": {},
   "outputs": [],
   "source": [
    "index = ['01', '02', '03', '04', '05', '06', '07', '08', '09', '10']"
   ]
  },
  {
   "cell_type": "code",
   "execution_count": 32,
   "metadata": {},
   "outputs": [],
   "source": [
    "fds = {}\n",
    "fds['hoa dâm bụt'] = []\n",
    "fds['hoa anh túc'] = []\n",
    "fds['hoa anh thảo'] = []\n",
    "fds['hoa bướm'] = []\n",
    "fds['hoa hồng đá'] = []\n",
    "fds['hoa dã quỳ'] = []\n",
    "fds['hoa đồng tiền'] = []\n",
    "fds['hoa hướng dương'] = []\n",
    "fds['hoa cúc']= []"
   ]
  },
  {
   "cell_type": "code",
   "execution_count": 33,
   "metadata": {},
   "outputs": [
    {
     "name": "stderr",
     "output_type": "stream",
     "text": [
      "C:\\Users\\khanh\\AppData\\Local\\Temp\\ipykernel_29116\\353567891.py:5: FutureWarning: `multichannel` is a deprecated argument name for `hog`. It will be removed in version 1.0. Please use `channel_axis` instead.\n",
      "  fd, hog_image = hog(img, orientations=9, pixels_per_cell=(8, 8), cells_per_block=(2, 2), visualize=True, multichannel=True)\n"
     ]
    }
   ],
   "source": [
    "for i in fds.keys():\n",
    "    name = i.split(' -')[0]\n",
    "    for j in index:\n",
    "        img = imread(f'Flower\\{i}\\{name}{j}.png')\n",
    "        fd, hog_image = hog(img, orientations=9, pixels_per_cell=(8, 8), cells_per_block=(2, 2), visualize=True, multichannel=True)\n",
    "        fds[f'{i}'].append(fd)"
   ]
  },
  {
   "cell_type": "code",
   "execution_count": 34,
   "metadata": {},
   "outputs": [],
   "source": [
    "def kNearestNeighbor(trainSet, point, k):\n",
    "    distances = []\n",
    "    for i in trainSet.keys():\n",
    "        for j in trainSet[i]:\n",
    "            distance = calculateIntersection(j, point)\n",
    "            distances.append((distance, i))\n",
    "    distances.sort()\n",
    "    arr = [x[1] for x in distances]\n",
    "    print(arr[:k])\n",
    "    return arr[:k]"
   ]
  },
  {
   "cell_type": "code",
   "execution_count": 35,
   "metadata": {},
   "outputs": [],
   "source": [
    "def findMostOccur(arr):\n",
    "    labels = set(arr) # set label\n",
    "    ans = \"\"\n",
    "    maxOccur = 0\n",
    "    for label in labels:\n",
    "        num = arr.count(label)\n",
    "        if num > maxOccur:\n",
    "            maxOccur = num\n",
    "            ans = label\n",
    "    return ans"
   ]
  },
  {
   "cell_type": "code",
   "execution_count": 36,
   "metadata": {},
   "outputs": [
    {
     "name": "stderr",
     "output_type": "stream",
     "text": [
      "C:\\Users\\khanh\\AppData\\Local\\Temp\\ipykernel_29116\\3120436336.py:8: FutureWarning: `multichannel` is a deprecated argument name for `hog`. It will be removed in version 1.0. Please use `channel_axis` instead.\n",
      "  fd, hog_image_test = hog(img_test, orientations=9, pixels_per_cell=(8, 8), cells_per_block=(2, 2), visualize=True, multichannel=True)\n"
     ]
    },
    {
     "name": "stdout",
     "output_type": "stream",
     "text": [
      "['hoa anh thảo', 'hoa dâm bụt', 'hoa anh túc', 'hoa dâm bụt', 'hoa dâm bụt', 'hoa anh túc', 'hoa hướng dương', 'hoa đồng tiền', 'hoa hướng dương', 'hoa đồng tiền', 'hoa anh túc', 'hoa dâm bụt', 'hoa anh túc', 'hoa đồng tiền', 'hoa anh thảo']\n",
      "hoa anh thảo01.png\n",
      "['hoa anh túc', 'hoa hồng đá', 'hoa anh túc', 'hoa hồng đá', 'hoa anh túc', 'hoa anh túc', 'hoa anh túc', 'hoa anh túc', 'hoa dâm bụt', 'hoa anh túc', 'hoa hồng đá', 'hoa dâm bụt', 'hoa hướng dương', 'hoa hướng dương', 'hoa hồng đá']\n",
      "hoa anh thảo02.png\n",
      "['hoa anh túc', 'hoa anh thảo', 'hoa anh túc', 'hoa dâm bụt', 'hoa anh túc', 'hoa hồng đá', 'hoa anh túc', 'hoa anh túc', 'hoa anh túc', 'hoa đồng tiền', 'hoa dâm bụt', 'hoa hồng đá', 'hoa anh thảo', 'hoa đồng tiền', 'hoa bướm']\n",
      "hoa anh túc01.png\n",
      "['hoa anh túc', 'hoa anh túc', 'hoa hồng đá', 'hoa hồng đá', 'hoa anh thảo', 'hoa anh túc', 'hoa anh thảo', 'hoa anh túc', 'hoa dâm bụt', 'hoa dâm bụt', 'hoa dâm bụt', 'hoa anh thảo', 'hoa dâm bụt', 'hoa hồng đá', 'hoa dâm bụt']\n",
      "hoa anh túc02.png\n",
      "['hoa bướm', 'hoa bướm', 'hoa đồng tiền', 'hoa đồng tiền', 'hoa anh thảo', 'hoa anh túc', 'hoa cúc', 'hoa đồng tiền', 'hoa dâm bụt', 'hoa bướm', 'hoa đồng tiền', 'hoa anh thảo', 'hoa đồng tiền', 'hoa anh túc', 'hoa cúc']\n",
      "hoa bướm02.png\n",
      "['hoa hướng dương', 'hoa hướng dương', 'hoa cúc', 'hoa đồng tiền', 'hoa đồng tiền', 'hoa hướng dương', 'hoa đồng tiền', 'hoa đồng tiền', 'hoa cúc', 'hoa dã quỳ', 'hoa đồng tiền', 'hoa đồng tiền', 'hoa cúc', 'hoa cúc', 'hoa anh túc']\n",
      "hoa cúc01.png\n",
      "['hoa cúc', 'hoa anh túc', 'hoa đồng tiền', 'hoa đồng tiền', 'hoa dã quỳ', 'hoa đồng tiền', 'hoa đồng tiền', 'hoa dã quỳ', 'hoa đồng tiền', 'hoa dã quỳ', 'hoa hướng dương', 'hoa đồng tiền', 'hoa hướng dương', 'hoa dã quỳ', 'hoa bướm']\n",
      "hoa cúc02.png\n",
      "['hoa dâm bụt', 'hoa dâm bụt', 'hoa dâm bụt', 'hoa đồng tiền', 'hoa dâm bụt', 'hoa hướng dương', 'hoa dâm bụt', 'hoa hướng dương', 'hoa anh túc', 'hoa bướm', 'hoa hồng đá', 'hoa anh thảo', 'hoa hướng dương', 'hoa đồng tiền', 'hoa anh thảo']\n",
      "hoa dâm bụt01.png\n",
      "['hoa dâm bụt', 'hoa đồng tiền', 'hoa dâm bụt', 'hoa đồng tiền', 'hoa hướng dương', 'hoa dâm bụt', 'hoa hồng đá', 'hoa hướng dương', 'hoa hướng dương', 'hoa dâm bụt', 'hoa đồng tiền', 'hoa đồng tiền', 'hoa anh túc', 'hoa đồng tiền', 'hoa hướng dương']\n",
      "hoa dâm bụt02.png\n",
      "['hoa cúc', 'hoa đồng tiền', 'hoa cúc', 'hoa cúc', 'hoa đồng tiền', 'hoa cúc', 'hoa đồng tiền', 'hoa cúc', 'hoa dã quỳ', 'hoa bướm', 'hoa cúc', 'hoa dã quỳ', 'hoa dã quỳ', 'hoa đồng tiền', 'hoa đồng tiền']\n",
      "hoa dã quỳ01.png\n",
      "['hoa cúc', 'hoa cúc', 'hoa cúc', 'hoa đồng tiền', 'hoa đồng tiền', 'hoa đồng tiền', 'hoa đồng tiền', 'hoa đồng tiền', 'hoa cúc', 'hoa hướng dương', 'hoa cúc', 'hoa hồng đá', 'hoa đồng tiền', 'hoa cúc', 'hoa đồng tiền']\n",
      "hoa dã quỳ02.png\n",
      "['hoa cúc', 'hoa cúc', 'hoa đồng tiền', 'hoa đồng tiền', 'hoa cúc', 'hoa đồng tiền', 'hoa đồng tiền', 'hoa đồng tiền', 'hoa hướng dương', 'hoa đồng tiền', 'hoa dã quỳ', 'hoa cúc', 'hoa đồng tiền', 'hoa đồng tiền', 'hoa cúc']\n",
      "hoa dã quỳ03.png\n",
      "['hoa đồng tiền', 'hoa đồng tiền', 'hoa đồng tiền', 'hoa đồng tiền', 'hoa cúc', 'hoa hướng dương', 'hoa đồng tiền', 'hoa hướng dương', 'hoa bướm', 'hoa đồng tiền', 'hoa dâm bụt', 'hoa hướng dương', 'hoa cúc', 'hoa cúc', 'hoa cúc']\n",
      "hoa dã quỳ04.png\n",
      "['hoa bướm', 'hoa cúc', 'hoa cúc', 'hoa cúc', 'hoa đồng tiền', 'hoa bướm', 'hoa đồng tiền', 'hoa dã quỳ', 'hoa dã quỳ', 'hoa đồng tiền', 'hoa hướng dương', 'hoa dã quỳ', 'hoa bướm', 'hoa đồng tiền', 'hoa hướng dương']\n",
      "hoa dã quỳ05.png\n",
      "['hoa đồng tiền', 'hoa cúc', 'hoa đồng tiền', 'hoa dã quỳ', 'hoa cúc', 'hoa anh túc', 'hoa đồng tiền', 'hoa đồng tiền', 'hoa bướm', 'hoa hướng dương', 'hoa đồng tiền', 'hoa hướng dương', 'hoa cúc', 'hoa dã quỳ', 'hoa hướng dương']\n",
      "hoa dã quỳ06.png\n",
      "['hoa đồng tiền', 'hoa hướng dương', 'hoa hướng dương', 'hoa đồng tiền', 'hoa đồng tiền', 'hoa cúc', 'hoa hướng dương', 'hoa đồng tiền', 'hoa hướng dương', 'hoa hướng dương', 'hoa đồng tiền', 'hoa hướng dương', 'hoa hướng dương', 'hoa bướm', 'hoa cúc']\n",
      "hoa hướng dương01.png\n",
      "['hoa đồng tiền', 'hoa hướng dương', 'hoa hướng dương', 'hoa đồng tiền', 'hoa hướng dương', 'hoa đồng tiền', 'hoa đồng tiền', 'hoa hướng dương', 'hoa cúc', 'hoa đồng tiền', 'hoa đồng tiền', 'hoa cúc', 'hoa cúc', 'hoa cúc', 'hoa hướng dương']\n",
      "hoa hướng dương02.png\n",
      "['hoa hướng dương', 'hoa hướng dương', 'hoa hướng dương', 'hoa đồng tiền', 'hoa đồng tiền', 'hoa đồng tiền', 'hoa hướng dương', 'hoa đồng tiền', 'hoa đồng tiền', 'hoa đồng tiền', 'hoa cúc', 'hoa hướng dương', 'hoa đồng tiền', 'hoa dâm bụt', 'hoa đồng tiền']\n",
      "hoa hướng dương03.png\n",
      "['hoa đồng tiền', 'hoa hướng dương', 'hoa đồng tiền', 'hoa đồng tiền', 'hoa hướng dương', 'hoa đồng tiền', 'hoa hướng dương', 'hoa hướng dương', 'hoa hướng dương', 'hoa hướng dương', 'hoa cúc', 'hoa cúc', 'hoa đồng tiền', 'hoa cúc', 'hoa đồng tiền']\n",
      "hoa hướng dương04.png\n",
      "['hoa hướng dương', 'hoa hướng dương', 'hoa hướng dương', 'hoa đồng tiền', 'hoa hướng dương', 'hoa hướng dương', 'hoa hướng dương', 'hoa dã quỳ', 'hoa dã quỳ', 'hoa hướng dương', 'hoa dã quỳ', 'hoa dã quỳ', 'hoa dã quỳ', 'hoa dã quỳ', 'hoa đồng tiền']\n",
      "hoa hướng dương05.png\n",
      "['hoa hướng dương', 'hoa dã quỳ', 'hoa đồng tiền', 'hoa dã quỳ', 'hoa dã quỳ', 'hoa dã quỳ', 'hoa dã quỳ', 'hoa hướng dương', 'hoa dã quỳ', 'hoa dã quỳ', 'hoa cúc', 'hoa anh túc', 'hoa anh thảo', 'hoa hướng dương', 'hoa dã quỳ']\n",
      "hoa hướng dương06.png\n",
      "['hoa hồng đá', 'hoa hồng đá', 'hoa anh túc', 'hoa anh túc', 'hoa dâm bụt', 'hoa cúc', 'hoa đồng tiền', 'hoa anh túc', 'hoa đồng tiền', 'hoa dâm bụt', 'hoa đồng tiền', 'hoa hồng đá', 'hoa hồng đá', 'hoa hướng dương', 'hoa hướng dương']\n",
      "hoa hồng đá01.png\n",
      "['hoa hồng đá', 'hoa anh túc', 'hoa hồng đá', 'hoa anh túc', 'hoa anh túc', 'hoa anh thảo', 'hoa hồng đá', 'hoa dâm bụt', 'hoa dâm bụt', 'hoa anh thảo', 'hoa anh túc', 'hoa đồng tiền', 'hoa anh thảo', 'hoa hồng đá', 'hoa hồng đá']\n",
      "hoa hồng đá02.png\n",
      "['hoa dã quỳ', 'hoa đồng tiền', 'hoa đồng tiền', 'hoa đồng tiền', 'hoa dã quỳ', 'hoa bướm', 'hoa cúc', 'hoa dã quỳ', 'hoa dã quỳ', 'hoa đồng tiền', 'hoa dã quỳ', 'hoa hướng dương', 'hoa bướm', 'hoa hướng dương', 'hoa cúc']\n",
      "hoa đồng tiền01.png\n",
      "['hoa dã quỳ', 'hoa đồng tiền', 'hoa hướng dương', 'hoa dã quỳ', 'hoa dã quỳ', 'hoa dã quỳ', 'hoa anh thảo', 'hoa dã quỳ', 'hoa bướm', 'hoa cúc', 'hoa dã quỳ', 'hoa anh thảo', 'hoa anh thảo', 'hoa hướng dương', 'hoa anh túc']\n",
      "hoa đồng tiền02.png\n"
     ]
    },
    {
     "data": {
      "text/plain": [
       "0.28"
      ]
     },
     "execution_count": 36,
     "metadata": {},
     "output_type": "execute_result"
    }
   ],
   "source": [
    "import os\n",
    "true_predict = 0\n",
    "false_predict = 0\n",
    "for file in os.listdir(\"Flower/test\"):\n",
    "    filename = os.path.join(\"Flower/test\", file)\n",
    "    img_test = imread(filename)\n",
    "    img_test = resize(img_test, (128,128))\n",
    "    fd, hog_image_test = hog(img_test, orientations=9, pixels_per_cell=(8, 8), cells_per_block=(2, 2), visualize=True, multichannel=True)\n",
    "    distances = kNearestNeighbor(fds, fd, 15)\n",
    "    print(file)\n",
    "    if findMostOccur(distances) == file[:-6]:\n",
    "        true_predict += 1\n",
    "    else:\n",
    "        false_predict += 1\n",
    "true_predict / (true_predict + false_predict)"
   ]
  },
  {
   "cell_type": "code",
   "execution_count": 125,
   "metadata": {},
   "outputs": [
    {
     "name": "stderr",
     "output_type": "stream",
     "text": [
      "C:\\Users\\khanh\\AppData\\Local\\Temp\\ipykernel_19800\\1388804856.py:8: FutureWarning: `multichannel` is a deprecated argument name for `hog`. It will be removed in version 1.0. Please use `channel_axis` instead.\n",
      "  fd, hog_image_test = hog(img_test, orientations=9, pixels_per_cell=(8, 8), cells_per_block=(2, 2), visualize=True, multichannel=True)\n"
     ]
    },
    {
     "name": "stdout",
     "output_type": "stream",
     "text": [
      "['hoa anh thảo', 'hoa anh thảo', 'hoa anh túc', 'hoa dâm bụt', 'hoa dâm bụt', 'hoa đồng tiền', 'hoa đồng tiền', 'hoa dâm bụt']\n",
      "hoa anh thảo01.png\n",
      "['hoa anh thảo', 'hoa anh thảo', 'hoa anh thảo', 'hoa bướm', 'hoa bướm', 'hoa anh thảo', 'hoa anh thảo', 'hoa bướm']\n",
      "hoa anh thảo02.png\n",
      "['hoa anh thảo', 'hoa anh thảo', 'hoa anh thảo', 'hoa anh túc', 'hoa bướm', 'hoa anh thảo', 'hoa anh thảo', 'hoa bướm']\n",
      "hoa anh thảo03.png\n",
      "['hoa anh thảo', 'hoa anh thảo', 'hoa anh thảo', 'hoa anh thảo', 'hoa bướm', 'hoa bướm', 'hoa bướm', 'hoa bướm']\n",
      "hoa anh thảo04.png\n",
      "['hoa anh thảo', 'hoa anh thảo', 'hoa anh thảo', 'hoa anh thảo', 'hoa anh túc', 'hoa anh túc', 'hoa bướm', 'hoa anh thảo']\n",
      "hoa anh thảo05.png\n",
      "['hoa anh thảo', 'hoa dâm bụt', 'hoa bướm', 'hoa anh túc', 'hoa anh túc', 'hoa anh túc', 'hoa anh thảo', 'hoa đồng tiền']\n",
      "hoa anh thảo06.png\n",
      "['hoa anh thảo', 'hoa anh thảo', 'hoa anh thảo', 'hoa anh túc', 'hoa anh túc', 'hoa anh thảo', 'hoa anh túc', 'hoa dâm bụt']\n",
      "hoa anh thảo07.png\n",
      "['hoa anh thảo', 'hoa anh thảo', 'hoa bướm', 'hoa đồng tiền', 'hoa anh thảo', 'hoa đồng tiền', 'hoa anh túc', 'hoa anh túc']\n",
      "hoa anh thảo08.png\n",
      "['hoa anh thảo', 'hoa anh thảo', 'hoa anh thảo', 'hoa anh thảo', 'hoa bướm', 'hoa anh thảo', 'hoa bướm', 'hoa anh túc']\n",
      "hoa anh thảo09.png\n",
      "['hoa anh thảo', 'hoa anh thảo', 'hoa anh thảo', 'hoa anh túc', 'hoa bướm', 'hoa dã quỳ', 'hoa đồng tiền', 'hoa anh thảo']\n",
      "hoa anh thảo10.png\n"
     ]
    },
    {
     "data": {
      "text/plain": [
       "0.8"
      ]
     },
     "execution_count": 125,
     "metadata": {},
     "output_type": "execute_result"
    }
   ],
   "source": [
    "import os\n",
    "true_predict = 0\n",
    "false_predict = 0\n",
    "for file in os.listdir(\"Flower/hoa anh thảo\"):\n",
    "    filename = os.path.join(\"Flower/hoa anh thảo\", file)\n",
    "    img_test = imread(filename)\n",
    "    img_test = resize(img_test, (128,128))\n",
    "    fd, hog_image_test = hog(img_test, orientations=9, pixels_per_cell=(8, 8), cells_per_block=(2, 2), visualize=True, multichannel=True)\n",
    "    distances = kNearestNeighbor(fds, fd, 8)\n",
    "    print(file)\n",
    "    if findMostOccur(distances) == file[:-6]:\n",
    "        true_predict += 1\n",
    "    else:\n",
    "        false_predict += 1\n",
    "true_predict / (true_predict + false_predict)"
   ]
  },
  {
   "cell_type": "code",
   "execution_count": 21,
   "metadata": {},
   "outputs": [],
   "source": [
    "from skimage.feature import local_binary_pattern\n",
    "from skimage.io import imread, imshow, imsave\n",
    "from skimage.color import rgb2gray"
   ]
  },
  {
   "cell_type": "code",
   "execution_count": 26,
   "metadata": {},
   "outputs": [],
   "source": [
    "lbps = {}\n",
    "lbps['hoa dâm bụt'] = []\n",
    "lbps['hoa anh túc'] = []\n",
    "lbps['hoa anh thảo'] = []\n",
    "lbps['hoa bướm'] = []\n",
    "lbps['hoa hồng đá'] = []\n",
    "# lbps['hoa dã quỳ'] = []\n",
    "# lbps['hoa đồng tiền'] = []\n",
    "# lbps['hoa hướng dương'] = []\n",
    "# lbps['hoa cúc']= []"
   ]
  },
  {
   "cell_type": "code",
   "execution_count": 27,
   "metadata": {},
   "outputs": [],
   "source": [
    "for i in lbps.keys():\n",
    "    name = i.split(' -')[0]\n",
    "    for j in index:\n",
    "        img = imread(f'Flower\\{i}\\{name}{j}.png')\n",
    "        img = img[:, :, :3]\n",
    "        img = rgb2gray(img)\n",
    "        lbp = local_binary_pattern(img, P=8, R=1, method='uniform')\n",
    "        lbps[f'{i}'].append(lbp)"
   ]
  },
  {
   "cell_type": "code",
   "execution_count": 28,
   "metadata": {},
   "outputs": [
    {
     "ename": "TypeError",
     "evalue": "only size-1 arrays can be converted to Python scalars",
     "output_type": "error",
     "traceback": [
      "\u001b[1;31m---------------------------------------------------------------------------\u001b[0m",
      "\u001b[1;31mTypeError\u001b[0m                                 Traceback (most recent call last)",
      "\u001b[1;32me:\\Flower-classification-system\\feature_selection.ipynb Cell 13\u001b[0m in \u001b[0;36m<cell line: 4>\u001b[1;34m()\u001b[0m\n\u001b[0;32m      <a href='vscode-notebook-cell:/e%3A/Flower-classification-system/feature_selection.ipynb#X15sZmlsZQ%3D%3D?line=8'>9</a>\u001b[0m img_test \u001b[39m=\u001b[39m rgb2gray(img_test)\n\u001b[0;32m     <a href='vscode-notebook-cell:/e%3A/Flower-classification-system/feature_selection.ipynb#X15sZmlsZQ%3D%3D?line=9'>10</a>\u001b[0m lbp \u001b[39m=\u001b[39m local_binary_pattern(img_test, P\u001b[39m=\u001b[39m\u001b[39m8\u001b[39m, R\u001b[39m=\u001b[39m\u001b[39m1\u001b[39m, method\u001b[39m=\u001b[39m\u001b[39m'\u001b[39m\u001b[39muniform\u001b[39m\u001b[39m'\u001b[39m)\n\u001b[1;32m---> <a href='vscode-notebook-cell:/e%3A/Flower-classification-system/feature_selection.ipynb#X15sZmlsZQ%3D%3D?line=10'>11</a>\u001b[0m distances \u001b[39m=\u001b[39m kNearestNeighbor(lbps, lbp, \u001b[39m5\u001b[39;49m)\n\u001b[0;32m     <a href='vscode-notebook-cell:/e%3A/Flower-classification-system/feature_selection.ipynb#X15sZmlsZQ%3D%3D?line=11'>12</a>\u001b[0m \u001b[39mprint\u001b[39m(file)\n\u001b[0;32m     <a href='vscode-notebook-cell:/e%3A/Flower-classification-system/feature_selection.ipynb#X15sZmlsZQ%3D%3D?line=12'>13</a>\u001b[0m \u001b[39mif\u001b[39;00m findMostOccur(distances) \u001b[39m==\u001b[39m file[:\u001b[39m-\u001b[39m\u001b[39m6\u001b[39m]:\n",
      "\u001b[1;32me:\\Flower-classification-system\\feature_selection.ipynb Cell 13\u001b[0m in \u001b[0;36mkNearestNeighbor\u001b[1;34m(trainSet, point, k)\u001b[0m\n\u001b[0;32m      <a href='vscode-notebook-cell:/e%3A/Flower-classification-system/feature_selection.ipynb#X15sZmlsZQ%3D%3D?line=2'>3</a>\u001b[0m \u001b[39mfor\u001b[39;00m i \u001b[39min\u001b[39;00m trainSet\u001b[39m.\u001b[39mkeys():\n\u001b[0;32m      <a href='vscode-notebook-cell:/e%3A/Flower-classification-system/feature_selection.ipynb#X15sZmlsZQ%3D%3D?line=3'>4</a>\u001b[0m     \u001b[39mfor\u001b[39;00m j \u001b[39min\u001b[39;00m trainSet[i]:\n\u001b[1;32m----> <a href='vscode-notebook-cell:/e%3A/Flower-classification-system/feature_selection.ipynb#X15sZmlsZQ%3D%3D?line=4'>5</a>\u001b[0m         distance \u001b[39m=\u001b[39m calculateIntersection(j, point)\n\u001b[0;32m      <a href='vscode-notebook-cell:/e%3A/Flower-classification-system/feature_selection.ipynb#X15sZmlsZQ%3D%3D?line=5'>6</a>\u001b[0m         distances\u001b[39m.\u001b[39mappend((distance, i))\n\u001b[0;32m      <a href='vscode-notebook-cell:/e%3A/Flower-classification-system/feature_selection.ipynb#X15sZmlsZQ%3D%3D?line=6'>7</a>\u001b[0m distances\u001b[39m.\u001b[39msort()\n",
      "\u001b[1;32me:\\Flower-classification-system\\feature_selection.ipynb Cell 13\u001b[0m in \u001b[0;36mcalculateIntersection\u001b[1;34m(hI, hM)\u001b[0m\n\u001b[0;32m      <a href='vscode-notebook-cell:/e%3A/Flower-classification-system/feature_selection.ipynb#X15sZmlsZQ%3D%3D?line=2'>3</a>\u001b[0m \u001b[39mfor\u001b[39;00m i \u001b[39min\u001b[39;00m \u001b[39mrange\u001b[39m(\u001b[39mlen\u001b[39m(hI)):\n\u001b[0;32m      <a href='vscode-notebook-cell:/e%3A/Flower-classification-system/feature_selection.ipynb#X15sZmlsZQ%3D%3D?line=3'>4</a>\u001b[0m     intersection \u001b[39m+\u001b[39m\u001b[39m=\u001b[39m (hI[i] \u001b[39m-\u001b[39m hM[i]) \u001b[39m*\u001b[39m (hI[i] \u001b[39m-\u001b[39m hM[i])\n\u001b[1;32m----> <a href='vscode-notebook-cell:/e%3A/Flower-classification-system/feature_selection.ipynb#X15sZmlsZQ%3D%3D?line=4'>5</a>\u001b[0m \u001b[39mreturn\u001b[39;00m math\u001b[39m.\u001b[39;49msqrt(intersection)\n",
      "\u001b[1;31mTypeError\u001b[0m: only size-1 arrays can be converted to Python scalars"
     ]
    }
   ],
   "source": [
    "import os\n",
    "true_predict = 0\n",
    "false_predict = 0\n",
    "for file in os.listdir(\"Flower/hoa dâm bụt\"):\n",
    "    filename = os.path.join(\"Flower/hoa dâm bụt\", file)\n",
    "    img_test = imread(filename)\n",
    "    img_test = resize(img_test, (128,128))\n",
    "    img_test = img_test[:, :, :3]\n",
    "    img_test = rgb2gray(img_test)\n",
    "    lbp = local_binary_pattern(img_test, P=8, R=1, method='uniform')\n",
    "    distances = kNearestNeighbor(lbps, lbp, 5)\n",
    "    print(file)\n",
    "    if findMostOccur(distances) == file[:-6]:\n",
    "        true_predict += 1\n",
    "    else:\n",
    "        false_predict += 1\n",
    "true_predict / (true_predict + false_predict)"
   ]
  },
  {
   "cell_type": "code",
   "execution_count": null,
   "metadata": {},
   "outputs": [],
   "source": []
  }
 ],
 "metadata": {
  "kernelspec": {
   "display_name": "base",
   "language": "python",
   "name": "python3"
  },
  "language_info": {
   "codemirror_mode": {
    "name": "ipython",
    "version": 3
   },
   "file_extension": ".py",
   "mimetype": "text/x-python",
   "name": "python",
   "nbconvert_exporter": "python",
   "pygments_lexer": "ipython3",
   "version": "3.9.12"
  },
  "orig_nbformat": 4
 },
 "nbformat": 4,
 "nbformat_minor": 2
}
