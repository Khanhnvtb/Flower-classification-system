{
 "cells": [
  {
   "cell_type": "code",
   "execution_count": 1,
   "metadata": {},
   "outputs": [],
   "source": [
    "from skimage.io import imread, imshow\n",
    "from skimage.transform import resize\n",
    "from skimage.feature import hog\n",
    "from skimage import exposure, color\n",
    "import matplotlib.pyplot as plt\n",
    "%matplotlib inline\n",
    "import math\n",
    "import numpy as np"
   ]
  },
  {
   "cell_type": "code",
   "execution_count": 68,
   "metadata": {},
   "outputs": [],
   "source": [
    "def calculateIntersection(hI, hM):\n",
    "    intersection = 0\n",
    "    for i in range(len(hI)):\n",
    "        intersection += (hI[i] - hM[i]) * (hI[i] - hM[i])\n",
    "    return math.sqrt(intersection)"
   ]
  },
  {
   "cell_type": "code",
   "execution_count": 50,
   "metadata": {},
   "outputs": [],
   "source": [
    "index = ['01', '02', '03', '04', '05', '06', '07', '08', '09', '10']"
   ]
  },
  {
   "cell_type": "code",
   "execution_count": 101,
   "metadata": {},
   "outputs": [],
   "source": [
    "fds = {}\n",
    "fds['hoa dâm bụt'] = []\n",
    "fds['hoa anh túc'] = []\n",
    "fds['hoa anh thảo'] = []\n",
    "fds['hoa bướm'] = []\n",
    "fds['hoa hồng đá'] = []\n",
    "fds['hoa dã quỳ'] = []\n",
    "fds['hoa đồng tiền'] = []\n",
    "fds['hoa hướng dương'] = []\n",
    "fds['hoa cúc']= []"
   ]
  },
  {
   "cell_type": "code",
   "execution_count": 102,
   "metadata": {},
   "outputs": [
    {
     "name": "stderr",
     "output_type": "stream",
     "text": [
      "C:\\Users\\khanh\\AppData\\Local\\Temp\\ipykernel_19800\\1989063327.py:5: FutureWarning: `multichannel` is a deprecated argument name for `hog`. It will be removed in version 1.0. Please use `channel_axis` instead.\n",
      "  fd, hog_image = hog(img, orientations=9, pixels_per_cell=(8, 8), cells_per_block=(2, 2), visualize=True, multichannel=True)\n"
     ]
    },
    {
     "data": {
      "text/plain": [
       "{'hoa dâm bụt': [array([0., 0., 0., ..., 0., 0., 0.]),\n",
       "  array([0., 0., 0., ..., 0., 0., 0.]),\n",
       "  array([0., 0., 0., ..., 0., 0., 0.]),\n",
       "  array([0., 0., 0., ..., 0., 0., 0.]),\n",
       "  array([0.        , 0.        , 0.        , ..., 0.07689812, 0.07145216,\n",
       "         0.13479787]),\n",
       "  array([0., 0., 0., ..., 0., 0., 0.]),\n",
       "  array([0., 0., 0., ..., 0., 0., 0.]),\n",
       "  array([0., 0., 0., ..., 0., 0., 0.]),\n",
       "  array([0., 0., 0., ..., 0., 0., 0.]),\n",
       "  array([0., 0., 0., ..., 0., 0., 0.])],\n",
       " 'hoa anh túc': [array([0., 0., 0., ..., 0., 0., 0.]),\n",
       "  array([0., 0., 0., ..., 0., 0., 0.]),\n",
       "  array([0., 0., 0., ..., 0., 0., 0.]),\n",
       "  array([0., 0., 0., ..., 0., 0., 0.]),\n",
       "  array([0., 0., 0., ..., 0., 0., 0.]),\n",
       "  array([0., 0., 0., ..., 0., 0., 0.]),\n",
       "  array([0., 0., 0., ..., 0., 0., 0.]),\n",
       "  array([0., 0., 0., ..., 0., 0., 0.]),\n",
       "  array([0., 0., 0., ..., 0., 0., 0.]),\n",
       "  array([0., 0., 0., ..., 0., 0., 0.])],\n",
       " 'hoa anh thảo': [array([0., 0., 0., ..., 0., 0., 0.]),\n",
       "  array([0., 0., 0., ..., 0., 0., 0.]),\n",
       "  array([0., 0., 0., ..., 0., 0., 0.]),\n",
       "  array([0., 0., 0., ..., 0., 0., 0.]),\n",
       "  array([0., 0., 0., ..., 0., 0., 0.]),\n",
       "  array([0., 0., 0., ..., 0., 0., 0.]),\n",
       "  array([0., 0., 0., ..., 0., 0., 0.]),\n",
       "  array([0., 0., 0., ..., 0., 0., 0.]),\n",
       "  array([0., 0., 0., ..., 0., 0., 0.]),\n",
       "  array([0., 0., 0., ..., 0., 0., 0.])],\n",
       " 'hoa bướm': [array([0., 0., 0., ..., 0., 0., 0.]),\n",
       "  array([0., 0., 0., ..., 0., 0., 0.]),\n",
       "  array([0., 0., 0., ..., 0., 0., 0.]),\n",
       "  array([0., 0., 0., ..., 0., 0., 0.]),\n",
       "  array([0., 0., 0., ..., 0., 0., 0.]),\n",
       "  array([0., 0., 0., ..., 0., 0., 0.]),\n",
       "  array([0., 0., 0., ..., 0., 0., 0.]),\n",
       "  array([0., 0., 0., ..., 0., 0., 0.]),\n",
       "  array([0., 0., 0., ..., 0., 0., 0.]),\n",
       "  array([0., 0., 0., ..., 0., 0., 0.])],\n",
       " 'hoa hồng đá': [array([0., 0., 0., ..., 0., 0., 0.]),\n",
       "  array([0., 0., 0., ..., 0., 0., 0.]),\n",
       "  array([0., 0., 0., ..., 0., 0., 0.]),\n",
       "  array([0., 0., 0., ..., 0., 0., 0.]),\n",
       "  array([0., 0., 0., ..., 0., 0., 0.]),\n",
       "  array([0., 0., 0., ..., 0., 0., 0.]),\n",
       "  array([0., 0., 0., ..., 0., 0., 0.]),\n",
       "  array([0., 0., 0., ..., 0., 0., 0.]),\n",
       "  array([0., 0., 0., ..., 0., 0., 0.]),\n",
       "  array([0., 0., 0., ..., 0., 0., 0.])],\n",
       " 'hoa dã quỳ': [array([0., 0., 0., ..., 0., 0., 0.]),\n",
       "  array([0., 0., 0., ..., 0., 0., 0.]),\n",
       "  array([0., 0., 0., ..., 0., 0., 0.]),\n",
       "  array([0., 0., 0., ..., 0., 0., 0.]),\n",
       "  array([0., 0., 0., ..., 0., 0., 0.]),\n",
       "  array([0., 0., 0., ..., 0., 0., 0.]),\n",
       "  array([0., 0., 0., ..., 0., 0., 0.]),\n",
       "  array([0., 0., 0., ..., 0., 0., 0.]),\n",
       "  array([0., 0., 0., ..., 0., 0., 0.]),\n",
       "  array([0., 0., 0., ..., 0., 0., 0.])],\n",
       " 'hoa đồng tiền': [array([0., 0., 0., ..., 0., 0., 0.]),\n",
       "  array([0., 0., 0., ..., 0., 0., 0.]),\n",
       "  array([0., 0., 0., ..., 0., 0., 0.]),\n",
       "  array([0., 0., 0., ..., 0., 0., 0.]),\n",
       "  array([0., 0., 0., ..., 0., 0., 0.]),\n",
       "  array([0., 0., 0., ..., 0., 0., 0.]),\n",
       "  array([0., 0., 0., ..., 0., 0., 0.]),\n",
       "  array([0., 0., 0., ..., 0., 0., 0.]),\n",
       "  array([0., 0., 0., ..., 0., 0., 0.]),\n",
       "  array([0., 0., 0., ..., 0., 0., 0.])],\n",
       " 'hoa hướng dương': [array([0., 0., 0., ..., 0., 0., 0.]),\n",
       "  array([0., 0., 0., ..., 0., 0., 0.]),\n",
       "  array([0., 0., 0., ..., 0., 0., 0.]),\n",
       "  array([0., 0., 0., ..., 0., 0., 0.]),\n",
       "  array([0., 0., 0., ..., 0., 0., 0.]),\n",
       "  array([0., 0., 0., ..., 0., 0., 0.]),\n",
       "  array([0., 0., 0., ..., 0., 0., 0.]),\n",
       "  array([0., 0., 0., ..., 0., 0., 0.]),\n",
       "  array([0., 0., 0., ..., 0., 0., 0.]),\n",
       "  array([0., 0., 0., ..., 0., 0., 0.])],\n",
       " 'hoa cúc': [array([0., 0., 0., ..., 0., 0., 0.]),\n",
       "  array([0., 0., 0., ..., 0., 0., 0.]),\n",
       "  array([0., 0., 0., ..., 0., 0., 0.]),\n",
       "  array([0., 0., 0., ..., 0., 0., 0.]),\n",
       "  array([0., 0., 0., ..., 0., 0., 0.]),\n",
       "  array([0., 0., 0., ..., 0., 0., 0.]),\n",
       "  array([0., 0., 0., ..., 0., 0., 0.]),\n",
       "  array([0., 0., 0., ..., 0., 0., 0.]),\n",
       "  array([0., 0., 0., ..., 0., 0., 0.]),\n",
       "  array([0., 0., 0., ..., 0., 0., 0.])]}"
      ]
     },
     "execution_count": 102,
     "metadata": {},
     "output_type": "execute_result"
    }
   ],
   "source": [
    "for i in fds.keys():\n",
    "    name = i.split(' -')[0]\n",
    "    for j in index:\n",
    "        img = imread(f'Flower\\{i}\\{name}{j}.png')\n",
    "        # fd, hog_image = hog(img, orientations=9, pixels_per_cell=(8, 8), cells_per_block=(2, 2), visualize=True, multichannel=True)\n",
    "        # fds[f'{i}'].append(fd)\n",
    "        \n",
    "        \n",
    "# fds"
   ]
  },
  {
   "cell_type": "code",
   "execution_count": null,
   "metadata": {},
   "outputs": [],
   "source": []
  },
  {
   "cell_type": "code",
   "execution_count": 103,
   "metadata": {},
   "outputs": [],
   "source": [
    "def kNearestNeighbor(trainSet, point, k):\n",
    "    distances = []\n",
    "    for i in trainSet.keys():\n",
    "        for j in fds[i]:\n",
    "            distance = calculateIntersection(j, fd)\n",
    "            distances.append((distance, i))\n",
    "    distances.sort()\n",
    "    arr = [x[1] for x in distances]\n",
    "    print(arr[:k])\n",
    "    return arr[:k]"
   ]
  },
  {
   "cell_type": "code",
   "execution_count": 104,
   "metadata": {},
   "outputs": [],
   "source": [
    "def findMostOccur(arr):\n",
    "    labels = set(arr) # set label\n",
    "    ans = \"\"\n",
    "    maxOccur = 0\n",
    "    for label in labels:\n",
    "        num = arr.count(label)\n",
    "        if num > maxOccur:\n",
    "            maxOccur = num\n",
    "            ans = label\n",
    "    return ans"
   ]
  },
  {
   "cell_type": "code",
   "execution_count": 105,
   "metadata": {},
   "outputs": [
    {
     "name": "stderr",
     "output_type": "stream",
     "text": [
      "C:\\Users\\khanh\\AppData\\Local\\Temp\\ipykernel_19800\\3042728438.py:8: FutureWarning: `multichannel` is a deprecated argument name for `hog`. It will be removed in version 1.0. Please use `channel_axis` instead.\n",
      "  fd, hog_image_test = hog(img_test, orientations=9, pixels_per_cell=(8, 8), cells_per_block=(2, 2), visualize=True, multichannel=True)\n"
     ]
    },
    {
     "name": "stdout",
     "output_type": "stream",
     "text": [
      "['hoa anh thảo', 'hoa dâm bụt', 'hoa anh túc', 'hoa dâm bụt', 'hoa dâm bụt']\n",
      "hoa anh thảo01.png\n",
      "['hoa anh túc', 'hoa hồng đá', 'hoa anh túc', 'hoa hồng đá', 'hoa anh túc']\n",
      "hoa anh thảo02.png\n",
      "['hoa anh túc', 'hoa anh thảo', 'hoa anh túc', 'hoa dâm bụt', 'hoa anh túc']\n",
      "hoa anh túc01.png\n",
      "['hoa anh túc', 'hoa anh túc', 'hoa hồng đá', 'hoa hồng đá', 'hoa anh thảo']\n",
      "hoa anh túc02.png\n",
      "['hoa đồng tiền', 'hoa cúc', 'hoa đồng tiền', 'hoa cúc', 'hoa đồng tiền']\n",
      "hoa bướm01.png\n",
      "['hoa bướm', 'hoa bướm', 'hoa đồng tiền', 'hoa đồng tiền', 'hoa anh thảo']\n",
      "hoa bướm02.png\n",
      "['hoa hướng dương', 'hoa hướng dương', 'hoa cúc', 'hoa đồng tiền', 'hoa đồng tiền']\n",
      "hoa cúc01.png\n",
      "['hoa cúc', 'hoa anh túc', 'hoa đồng tiền', 'hoa đồng tiền', 'hoa dã quỳ']\n",
      "hoa cúc02.png\n",
      "['hoa dâm bụt', 'hoa dâm bụt', 'hoa dâm bụt', 'hoa đồng tiền', 'hoa dâm bụt']\n",
      "hoa dâm bụt01.png\n",
      "['hoa dâm bụt', 'hoa đồng tiền', 'hoa dâm bụt', 'hoa đồng tiền', 'hoa hướng dương']\n",
      "hoa dâm bụt02.png\n",
      "['hoa cúc', 'hoa đồng tiền', 'hoa cúc', 'hoa cúc', 'hoa đồng tiền']\n",
      "hoa dã quỳ01.png\n",
      "['hoa cúc', 'hoa cúc', 'hoa cúc', 'hoa đồng tiền', 'hoa đồng tiền']\n",
      "hoa dã quỳ02.png\n",
      "['hoa cúc', 'hoa cúc', 'hoa đồng tiền', 'hoa đồng tiền', 'hoa cúc']\n",
      "hoa dã quỳ03.png\n",
      "['hoa đồng tiền', 'hoa đồng tiền', 'hoa đồng tiền', 'hoa đồng tiền', 'hoa cúc']\n",
      "hoa dã quỳ04.png\n",
      "['hoa bướm', 'hoa cúc', 'hoa cúc', 'hoa cúc', 'hoa đồng tiền']\n",
      "hoa dã quỳ05.png\n",
      "['hoa đồng tiền', 'hoa cúc', 'hoa đồng tiền', 'hoa dã quỳ', 'hoa cúc']\n",
      "hoa dã quỳ06.png\n",
      "['hoa đồng tiền', 'hoa hướng dương', 'hoa hướng dương', 'hoa đồng tiền', 'hoa đồng tiền']\n",
      "hoa hướng dương01.png\n",
      "['hoa đồng tiền', 'hoa hướng dương', 'hoa hướng dương', 'hoa đồng tiền', 'hoa hướng dương']\n",
      "hoa hướng dương02.png\n",
      "['hoa hướng dương', 'hoa hướng dương', 'hoa hướng dương', 'hoa đồng tiền', 'hoa đồng tiền']\n",
      "hoa hướng dương03.png\n",
      "['hoa đồng tiền', 'hoa hướng dương', 'hoa đồng tiền', 'hoa đồng tiền', 'hoa hướng dương']\n",
      "hoa hướng dương04.png\n",
      "['hoa hướng dương', 'hoa hướng dương', 'hoa hướng dương', 'hoa đồng tiền', 'hoa hướng dương']\n",
      "hoa hướng dương05.png\n",
      "['hoa hướng dương', 'hoa dã quỳ', 'hoa đồng tiền', 'hoa dã quỳ', 'hoa dã quỳ']\n",
      "hoa hướng dương06.png\n",
      "['hoa hồng đá', 'hoa hồng đá', 'hoa anh túc', 'hoa anh túc', 'hoa dâm bụt']\n",
      "hoa hồng đá01.png\n",
      "['hoa hồng đá', 'hoa anh túc', 'hoa hồng đá', 'hoa anh túc', 'hoa anh túc']\n",
      "hoa hồng đá02.png\n",
      "['hoa dã quỳ', 'hoa đồng tiền', 'hoa đồng tiền', 'hoa đồng tiền', 'hoa dã quỳ']\n",
      "hoa đồng tiền01.png\n",
      "['hoa dã quỳ', 'hoa đồng tiền', 'hoa hướng dương', 'hoa dã quỳ', 'hoa dã quỳ']\n",
      "hoa đồng tiền02.png\n"
     ]
    },
    {
     "data": {
      "text/plain": [
       "0.2692307692307692"
      ]
     },
     "execution_count": 105,
     "metadata": {},
     "output_type": "execute_result"
    }
   ],
   "source": [
    "import os\n",
    "true_predict = 0\n",
    "false_predict = 0\n",
    "for file in os.listdir(\"Flower/test\"):\n",
    "    filename = os.path.join(\"Flower/test\", file)\n",
    "    img_test = imread(filename)\n",
    "    img_test = resize(img_test, (128,128))\n",
    "    fd, hog_image_test = hog(img_test, orientations=9, pixels_per_cell=(8, 8), cells_per_block=(2, 2), visualize=True, multichannel=True)\n",
    "    distances = kNearestNeighbor(fds, fd, 5)\n",
    "    print(file)\n",
    "    if findMostOccur(distances) == file[:-6]:\n",
    "        true_predict += 1\n",
    "    else:\n",
    "        false_predict += 1\n",
    "true_predict / (true_predict + false_predict)"
   ]
  },
  {
   "cell_type": "code",
   "execution_count": null,
   "metadata": {},
   "outputs": [],
   "source": []
  }
 ],
 "metadata": {
  "kernelspec": {
   "display_name": "base",
   "language": "python",
   "name": "python3"
  },
  "language_info": {
   "codemirror_mode": {
    "name": "ipython",
    "version": 3
   },
   "file_extension": ".py",
   "mimetype": "text/x-python",
   "name": "python",
   "nbconvert_exporter": "python",
   "pygments_lexer": "ipython3",
   "version": "3.11.2"
  },
  "orig_nbformat": 4
 },
 "nbformat": 4,
 "nbformat_minor": 2
}
