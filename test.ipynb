{
 "cells": [
  {
   "attachments": {},
   "cell_type": "markdown",
   "metadata": {},
   "source": [
    "## Đổi tên file ảnh"
   ]
  },
  {
   "cell_type": "code",
   "execution_count": 3,
   "metadata": {},
   "outputs": [],
   "source": [
    "import os\n",
    "\n",
    "folder_path = \"./Flower/\"\n",
    "subfolders = [f.name for f in os.scandir(folder_path) if f.is_dir()]\n",
    "\n",
    "\n",
    "for subfolder in subfolders:\n",
    "    path = os.path.join(folder_path, subfolder)\n",
    "    files = os.listdir(path)\n",
    "    files.sort()\n",
    "    new_prefix =  subfolder\n",
    "    \n",
    "    for i, file_name in enumerate(files):\n",
    "        new_name = new_prefix + str(i+1).zfill(2) + \".png\"\n",
    "        os.rename(os.path.join(path, file_name), os.path.join(path, new_name))"
   ]
  },
  {
   "attachments": {},
   "cell_type": "markdown",
   "metadata": {},
   "source": [
    "## Tách đặc trưng lưu vào file"
   ]
  },
  {
   "cell_type": "code",
   "execution_count": 5,
   "metadata": {},
   "outputs": [],
   "source": [
    "\n",
    "from Feature import Feature\n",
    "from PIL import Image\n",
    "import numpy as np\n",
    "import json\n",
    "\n",
    "import os\n",
    "folder_path = './Flower/'\n",
    "subfolders = [f.name for f in os.scandir(folder_path) if f.is_dir()]\n",
    "\n",
    "feature_data = []\n",
    "feature = Feature()\n",
    "for subfolder in subfolders:\n",
    "    # Lấy danh sách các tệp trong thư mục\n",
    "    files = os.listdir(os.path.join(folder_path, subfolder))\n",
    "    \n",
    "    for file_name in files:\n",
    "        data = {}\n",
    "        data['label'] = subfolder\n",
    "        # Đọc ảnh\n",
    "        img = Image.open(os.path.join(folder_path, subfolder, file_name))\n",
    "        img = np.array(img)\n",
    "        # Tính toán đặc trưng\n",
    "        color_feature = feature.color_histogram(img)\n",
    "        hog_feature = feature.hog(img)\n",
    "        data['color_feature'] = color_feature.tolist()\n",
    "        data['hog_feature'] = hog_feature.tolist()\n",
    "        feature_data.append(data)\n",
    "\n",
    "data = {}\n",
    "data['data'] = feature_data\n",
    "\n",
    "# Lưu biến feature_data ra file JSON\n",
    "with open('data.json', 'w') as f:\n",
    "    json.dump(data, f)"
   ]
  },
  {
   "attachments": {},
   "cell_type": "markdown",
   "metadata": {},
   "source": [
    "## Test"
   ]
  },
  {
   "cell_type": "code",
   "execution_count": 6,
   "metadata": {},
   "outputs": [
    {
     "name": "stdout",
     "output_type": "stream",
     "text": [
      "[('hoa cúc huân chương', 0.0), ('hoa đồng tiền', 14.369073935009865), ('hoa cúc huân chương', 14.8119505883653), ('hoa bướm', 14.85940439067955), ('hoa hướng dương', 14.960741433073606)]\n"
     ]
    }
   ],
   "source": [
    "\n",
    "import json\n",
    "import numpy as np\n",
    "from PIL import Image\n",
    "from Feature import Feature\n",
    "\n",
    "# Đọc dữ liệu từ file JSON\n",
    "with open('data.json', 'r') as f:\n",
    "    data = json.load(f)\n",
    "\n",
    "# Lấy dữ liệu'\n",
    "feature_data = data['data']\n",
    "\n",
    "\n",
    "image1 = Image.open('./Flower/hoa cúc huân chương/hoa cúc huân chương05.png')\n",
    "image1 = np.array(image1)\n",
    "\n",
    "feature = Feature()\n",
    "color_feature = feature.color_histogram(image1)\n",
    "hog_feature = feature.hog(image1)\n",
    "\n",
    "list_distance = []\n",
    "\n",
    "for data in feature_data:\n",
    "    label = data['label']\n",
    "    color_feature2 = np.array(data['color_feature'])\n",
    "    hog_feature2 = np.array(data['hog_feature'])\n",
    "    \n",
    "    distance_color = feature.distanceEuclidean(color_feature, color_feature2)\n",
    "    distance_hog = feature.distanceEuclidean(hog_feature, hog_feature2)\n",
    "    distance = distance_color + distance_hog\n",
    "    \n",
    "    list_distance.append((label, distance))\n",
    "\n",
    "\n",
    "list_distance.sort(key=lambda x: x[1])\n",
    "list_distance = list_distance[:5]\n",
    "print(list_distance)"
   ]
  }
 ],
 "metadata": {
  "kernelspec": {
   "display_name": "venv",
   "language": "python",
   "name": "python3"
  },
  "language_info": {
   "codemirror_mode": {
    "name": "ipython",
    "version": 3
   },
   "file_extension": ".py",
   "mimetype": "text/x-python",
   "name": "python",
   "nbconvert_exporter": "python",
   "pygments_lexer": "ipython3",
   "version": "3.11.2"
  },
  "orig_nbformat": 4
 },
 "nbformat": 4,
 "nbformat_minor": 2
}
