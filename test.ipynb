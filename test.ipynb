{
 "cells": [
  {
   "attachments": {},
   "cell_type": "markdown",
   "metadata": {},
   "source": [
    "## Đổi tên file ảnh"
   ]
  },
  {
   "cell_type": "code",
   "execution_count": 3,
   "metadata": {},
   "outputs": [],
   "source": [
    "import os\n",
    "\n",
    "folder_path = \"./Flower/\"\n",
    "subfolders = [f.name for f in os.scandir(folder_path) if f.is_dir()]\n",
    "\n",
    "\n",
    "for subfolder in subfolders:\n",
    "    path = os.path.join(folder_path, subfolder)\n",
    "    files = os.listdir(path)\n",
    "    files.sort()\n",
    "    new_prefix =  subfolder\n",
    "    \n",
    "    for i, file_name in enumerate(files):\n",
    "        new_name = new_prefix + str(i+1).zfill(2) + \".png\"\n",
    "        os.rename(os.path.join(path, file_name), os.path.join(path, new_name))"
   ]
  },
  {
   "cell_type": "code",
   "execution_count": 13,
   "metadata": {},
   "outputs": [],
   "source": [
    "%reset"
   ]
  },
  {
   "attachments": {},
   "cell_type": "markdown",
   "metadata": {},
   "source": [
    "## Tách đặc trưng lưu vào file"
   ]
  },
  {
   "cell_type": "code",
   "execution_count": 3,
   "metadata": {},
   "outputs": [],
   "source": [
    "from Feature import Feature\n",
    "from PIL import Image\n",
    "import numpy as np\n",
    "import json\n",
    "\n",
    "import os\n",
    "folder_path = './Flower/'\n",
    "subfolders = [f.name for f in os.scandir(folder_path) if f.is_dir()]\n",
    "\n",
    "feature_data = []\n",
    "feature = Feature()\n",
    "for subfolder in subfolders:\n",
    "    # Lấy danh sách các tệp trong thư mục\n",
    "    files = os.listdir(os.path.join(folder_path, subfolder))\n",
    "    \n",
    "    for file_name in files:\n",
    "        data = {}\n",
    "        data['label'] = subfolder\n",
    "        # Đọc ảnh\n",
    "        img = Image.open(os.path.join(folder_path, subfolder, file_name))\n",
    "        img = np.array(img)\n",
    "        # Tính toán đặc trưng\n",
    "        color_feature = feature.color_histogram(img)\n",
    "        hog_feature = feature.hog(img)\n",
    "        data['color_feature'] = color_feature.tolist()\n",
    "        data['hog_feature'] = hog_feature.tolist()\n",
    "        feature_data.append(data)\n",
    "\n",
    "data = {}\n",
    "data['data'] = feature_data\n",
    "\n",
    "# Lưu biến feature_data ra file JSON\n",
    "with open('data2.json', 'w') as f:\n",
    "    json.dump(data, f)"
   ]
  },
  {
   "attachments": {},
   "cell_type": "markdown",
   "metadata": {},
   "source": [
    "## Test"
   ]
  },
  {
   "cell_type": "code",
   "execution_count": 5,
   "metadata": {},
   "outputs": [
    {
     "name": "stdout",
     "output_type": "stream",
     "text": [
      "0.0 1.5141970974977221\n",
      "0.0 16.467825931289305\n"
     ]
    }
   ],
   "source": [
    "\n",
    "import json\n",
    "import numpy as np\n",
    "from PIL import Image\n",
    "from Feature import Feature\n",
    "\n",
    "# Đọc dữ liệu từ file JSON\n",
    "with open('data.json', 'r') as f:\n",
    "    data = json.load(f)\n",
    "\n",
    "# Lấy dữ liệu'\n",
    "feature_data = data['data']\n",
    "\n",
    "\n",
    "image1 = Image.open('./Flower/hoa cúc huân chương/hoa cúc huân chương01.png')\n",
    "image1 = np.array(image1)\n",
    "\n",
    "feature = Feature()\n",
    "color_feature = feature.color_histogram(image1)\n",
    "hog_feature = feature.hog(image1)\n",
    "\n",
    "list_distance = []\n",
    "color_distance = []\n",
    "hog_distance = []\n",
    "\n",
    "for data in feature_data:\n",
    "    label = data['label']\n",
    "    color_feature2 = np.array(data['color_feature'])\n",
    "    hog_feature2 = np.array(data['hog_feature'])\n",
    "    \n",
    "    distance_color = feature.distanceEuclidean(color_feature, color_feature2)\n",
    "    distance_hog = feature.distanceEuclidean(hog_feature, hog_feature2)\n",
    "    distance = distance_color + distance_hog\n",
    "    \n",
    "    list_distance.append((label, distance))\n",
    "\n",
    "    color_distance.append(distance_color)\n",
    "    hog_distance.append(distance_hog)\n",
    "\n",
    "list_distance.sort(key=lambda x: x[1])\n",
    "list_distance = list_distance[:5]\n",
    "# print(list_distance)\n",
    "print(min(color_distance),  max(color_distance))\n",
    "print(min(hog_distance),  max(hog_distance))"
   ]
  },
  {
   "cell_type": "code",
   "execution_count": 5,
   "metadata": {},
   "outputs": [],
   "source": [
    "import json \n",
    "import numpy as np\n",
    "\n",
    "# Đọc dữ liệu từ file JSON\n",
    "with open('data2.json', 'r') as f:\n",
    "    data = json.load(f)\n",
    "    data = data['data']\n",
    "\n",
    "color_distance = []\n",
    "hog_distance = []\n",
    "for i in range(len(data)):\n",
    "    for j in range(i+1, len(data)):\n",
    "        color_feature1 = np.array(data[i]['color_feature']) / np.linalg.norm(np.array(data[i]['color_feature']))\n",
    "        color_feature2 = np.array(data[j]['color_feature']) / np.linalg.norm(np.array(data[j]['color_feature']))\n",
    "        hog_feature1 = np.array(data[i]['hog_feature']) / np.linalg.norm(np.array(data[i]['hog_feature']))\n",
    "        hog_feature2 = np.array(data[j]['hog_feature']) / np.linalg.norm(np.array(data[j]['hog_feature']))\n",
    "        \n",
    "        distance_color = np.linalg.norm(color_feature1 - color_feature2)\n",
    "        distance_hog = np.linalg.norm(hog_feature1 - hog_feature2)\n",
    "        \n",
    "        color_distance.append(distance_color)\n",
    "        hog_distance.append(distance_hog)"
   ]
  },
  {
   "cell_type": "code",
   "execution_count": 15,
   "metadata": {},
   "outputs": [],
   "source": [
    "color_distance.sort()"
   ]
  },
  {
   "cell_type": "code",
   "execution_count": 6,
   "metadata": {},
   "outputs": [
    {
     "data": {
      "image/png": "[encoded data removed]",
      "text/plain": [
       "<Figure size 640x480 with 1 Axes>"
      ]
     },
     "metadata": {},
     "output_type": "display_data"
    }
   ],
   "source": [
    "\n",
    "# trực quan phân bố color_distance\n",
    "import matplotlib.pyplot as plt\n",
    "plt.hist(color_distance, bins=100)\n",
    "plt.show()\n"
   ]
  },
  {
   "cell_type": "code",
   "execution_count": 7,
   "metadata": {},
   "outputs": [
    {
     "data": {
      "image/png": "[encoded data removed]",
      "text/plain": [
       "<Figure size 640x480 with 1 Axes>"
      ]
     },
     "metadata": {},
     "output_type": "display_data"
    }
   ],
   "source": [
    "# trực quan phân bố color_distance\n",
    "import matplotlib.pyplot as plt\n",
    "plt.hist(hog_distance, bins=100)\n",
    "plt.show()"
   ]
  },
  {
   "cell_type": "code",
   "execution_count": 8,
   "metadata": {},
   "outputs": [
    {
     "data": {
      "text/html": [
       "<div>\n",
       "<style scoped>\n",
       "    .dataframe tbody tr th:only-of-type {\n",
       "        vertical-align: middle;\n",
       "    }\n",
       "\n",
       "    .dataframe tbody tr th {\n",
       "        vertical-align: top;\n",
       "    }\n",
       "\n",
       "    .dataframe thead th {\n",
       "        text-align: right;\n",
       "    }\n",
       "</style>\n",
       "<table border=\"1\" class=\"dataframe\">\n",
       "  <thead>\n",
       "    <tr style=\"text-align: right;\">\n",
       "      <th></th>\n",
       "      <th>color_distance</th>\n",
       "      <th>hog_distance</th>\n",
       "    </tr>\n",
       "  </thead>\n",
       "  <tbody>\n",
       "    <tr>\n",
       "      <th>count</th>\n",
       "      <td>5050.000000</td>\n",
       "      <td>5050.000000</td>\n",
       "    </tr>\n",
       "    <tr>\n",
       "      <th>mean</th>\n",
       "      <td>0.780414</td>\n",
       "      <td>1.016000</td>\n",
       "    </tr>\n",
       "    <tr>\n",
       "      <th>std</th>\n",
       "      <td>0.111526</td>\n",
       "      <td>0.066727</td>\n",
       "    </tr>\n",
       "    <tr>\n",
       "      <th>min</th>\n",
       "      <td>0.110671</td>\n",
       "      <td>0.371733</td>\n",
       "    </tr>\n",
       "    <tr>\n",
       "      <th>25%</th>\n",
       "      <td>0.711288</td>\n",
       "      <td>0.980538</td>\n",
       "    </tr>\n",
       "    <tr>\n",
       "      <th>50%</th>\n",
       "      <td>0.786688</td>\n",
       "      <td>1.021731</td>\n",
       "    </tr>\n",
       "    <tr>\n",
       "      <th>75%</th>\n",
       "      <td>0.857665</td>\n",
       "      <td>1.059436</td>\n",
       "    </tr>\n",
       "    <tr>\n",
       "      <th>max</th>\n",
       "      <td>1.103277</td>\n",
       "      <td>1.195582</td>\n",
       "    </tr>\n",
       "  </tbody>\n",
       "</table>\n",
       "</div>"
      ],
      "text/plain": [
       "       color_distance  hog_distance\n",
       "count     5050.000000   5050.000000\n",
       "mean         0.780414      1.016000\n",
       "std          0.111526      0.066727\n",
       "min          0.110671      0.371733\n",
       "25%          0.711288      0.980538\n",
       "50%          0.786688      1.021731\n",
       "75%          0.857665      1.059436\n",
       "max          1.103277      1.195582"
      ]
     },
     "execution_count": 8,
     "metadata": {},
     "output_type": "execute_result"
    }
   ],
   "source": [
    "import pandas as pd\n",
    "\n",
    "df = pd.DataFrame({'color_distance': color_distance, 'hog_distance': hog_distance})\n",
    "df.describe()"
   ]
  },
  {
   "cell_type": "code",
   "execution_count": 22,
   "metadata": {},
   "outputs": [
    {
     "name": "stdout",
     "output_type": "stream",
     "text": [
      "\n"
     ]
    }
   ],
   "source": [
    "from PIL import Image\n",
    "import numpy as np\n",
    "from Feature import Feature\n",
    "\n",
    "def calculateRGBHistogram(image, num_bins):\n",
    "        value_bin = 256 / num_bins\n",
    "        histogram_of_red    = np.zeros(num_bins)\n",
    "        histogram_of_green  = np.zeros(num_bins)\n",
    "        histogram_of_blue   = np.zeros(num_bins)\n",
    "\n",
    "        for i in range(image.shape[0]):\n",
    "            for j in range(image.shape[1]):\n",
    "                histogram_of_red[int(image[i][j][0] / 256 * value_bin)] += 1\n",
    "                histogram_of_green[int(image[i][j][1] / 256 * value_bin)] += 1\n",
    "                histogram_of_blue[int(image[i][j][2] / 256 * value_bin)] += 1\n",
    "\n",
    "        return histogram_of_red, histogram_of_green, histogram_of_blue\n",
    "\n",
    "image = Image.open('./Flower/hoa cúc huân chương/hoa cúc huân chương01.png')\n",
    "image = np.array(image)\n",
    "histogram_of_red, histogram_of_green, histogram_of_blue = calculateRGBHistogram(image[48:64,48:64], 16)\n",
    "print()\n",
    "    "
   ]
  },
  {
   "cell_type": "code",
   "execution_count": 23,
   "metadata": {},
   "outputs": [
    {
     "data": {
      "image/png": "[encoded data removed]",
      "text/plain": [
       "<Figure size 640x480 with 1 Axes>"
      ]
     },
     "metadata": {},
     "output_type": "display_data"
    }
   ],
   "source": [
    "\n",
    "import matplotlib.pyplot as plt\n",
    "plt.bar(range(16), histogram_of_red, color='red')\n",
    "plt.show()\n"
   ]
  },
  {
   "cell_type": "code",
   "execution_count": 24,
   "metadata": {},
   "outputs": [
    {
     "data": {
      "image/png": "[encoded data removed]",
      "text/plain": [
       "<Figure size 640x480 with 1 Axes>"
      ]
     },
     "metadata": {},
     "output_type": "display_data"
    }
   ],
   "source": [
    "plt.bar(range(16), histogram_of_green, color='green')\n",
    "plt.show()"
   ]
  },
  {
   "cell_type": "code",
   "execution_count": 25,
   "metadata": {},
   "outputs": [
    {
     "data": {
      "image/png": "[encoded data removed]",
      "text/plain": [
       "<Figure size 640x480 with 1 Axes>"
      ]
     },
     "metadata": {},
     "output_type": "display_data"
    }
   ],
   "source": [
    "plt.bar(range(16), histogram_of_blue, color='blue')\n",
    "plt.show()"
   ]
  },
  {
   "cell_type": "code",
   "execution_count": 29,
   "metadata": {},
   "outputs": [
    {
     "data": {
      "image/png": "[encoded data removed]",
      "text/plain": [
       "<Figure size 640x480 with 1 Axes>"
      ]
     },
     "metadata": {},
     "output_type": "display_data"
    }
   ],
   "source": [
    "combined_histogram = np.concatenate((histogram_of_red, histogram_of_green, histogram_of_blue))\n",
    "fig, ax = plt.subplots()\n",
    "ax.set_title('Combined RGB Histogram')\n",
    "ax.set_xlabel('Intensity')\n",
    "ax.set_ylabel('Frequency')\n",
    "ax.bar(range(len(combined_histogram)), combined_histogram, color=['red']*16 + ['green']*16 + ['blue']*16)\n",
    "plt.show()"
   ]
  },
  {
   "cell_type": "code",
   "execution_count": 30,
   "metadata": {},
   "outputs": [
    {
     "data": {
      "text/plain": [
       "<BarContainer object of 48 artists>"
      ]
     },
     "execution_count": 30,
     "metadata": {},
     "output_type": "execute_result"
    },
    {
     "data": {
      "image/png": "[encoded data removed]",
      "text/plain": [
       "<Figure size 640x480 with 1 Axes>"
      ]
     },
     "metadata": {},
     "output_type": "display_data"
    }
   ],
   "source": [
    "plt.bar(range(48), combined_histogram, color='black')"
   ]
  },
  {
   "cell_type": "code",
   "execution_count": 2,
   "metadata": {},
   "outputs": [],
   "source": [
    "import json\n",
    "\n",
    "data = {\n",
    "    \"list\": [\"item1\", \"item2\", \"item3\"]\n",
    "}\n",
    "\n",
    "json_str = json.dumps(data, separators=(\",\", \":\"), ensure_ascii=False, indent=None)\n",
    "\n",
    "with open('test.json', 'w') as f:\n",
    "    json.dump(data, f, separators=(\",\", \":\"))"
   ]
  }
 ],
 "metadata": {
  "kernelspec": {
   "display_name": "venv",
   "language": "python",
   "name": "python3"
  },
  "language_info": {
   "codemirror_mode": {
    "name": "ipython",
    "version": 3
   },
   "file_extension": ".py",
   "mimetype": "text/x-python",
   "name": "python",
   "nbconvert_exporter": "python",
   "pygments_lexer": "ipython3",
   "version": "3.11.2"
  },
  "orig_nbformat": 4
 },
 "nbformat": 4,
 "nbformat_minor": 2
}
