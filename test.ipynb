{
 "cells": [
  {
   "cell_type": "code",
   "execution_count": 1,
   "metadata": {},
   "outputs": [],
   "source": [
    "import matplotlib.image as img\n",
    "import matplotlib.pyplot as plt\n",
    "import matplotlib.colors as colors"
   ]
  },
  {
   "cell_type": "code",
   "execution_count": 2,
   "metadata": {},
   "outputs": [
    {
     "data": {
      "text/plain": [
       "array([[[0, 0, 0],\n",
       "        [0, 0, 0],\n",
       "        [0, 0, 0],\n",
       "        ...,\n",
       "        [0, 0, 0],\n",
       "        [0, 0, 0],\n",
       "        [0, 0, 0]],\n",
       "\n",
       "       [[0, 0, 0],\n",
       "        [0, 0, 0],\n",
       "        [0, 0, 0],\n",
       "        ...,\n",
       "        [0, 0, 0],\n",
       "        [0, 0, 0],\n",
       "        [0, 0, 0]],\n",
       "\n",
       "       [[0, 0, 0],\n",
       "        [0, 0, 0],\n",
       "        [0, 0, 0],\n",
       "        ...,\n",
       "        [0, 0, 0],\n",
       "        [0, 0, 0],\n",
       "        [0, 0, 0]],\n",
       "\n",
       "       ...,\n",
       "\n",
       "       [[0, 0, 0],\n",
       "        [0, 0, 0],\n",
       "        [0, 0, 0],\n",
       "        ...,\n",
       "        [0, 0, 0],\n",
       "        [0, 0, 0],\n",
       "        [0, 0, 0]],\n",
       "\n",
       "       [[0, 0, 0],\n",
       "        [0, 0, 0],\n",
       "        [0, 0, 0],\n",
       "        ...,\n",
       "        [0, 0, 0],\n",
       "        [0, 0, 0],\n",
       "        [0, 0, 0]],\n",
       "\n",
       "       [[0, 0, 0],\n",
       "        [0, 0, 0],\n",
       "        [0, 0, 0],\n",
       "        ...,\n",
       "        [0, 0, 0],\n",
       "        [0, 0, 0],\n",
       "        [0, 0, 0]]], dtype=uint8)"
      ]
     },
     "execution_count": 2,
     "metadata": {},
     "output_type": "execute_result"
    }
   ],
   "source": [
    "import PIL.Image\n",
    "import numpy as np\n",
    "rgba_image = PIL.Image.open('Flower\\\\hoa anh thảo\\\\hoa anh thảo01.png')\n",
    "rgb_image = rgba_image.convert('RGB')\n",
    "np_img = np.array(rgb_image)\n",
    "np_img"
   ]
  },
  {
   "cell_type": "code",
   "execution_count": 3,
   "metadata": {},
   "outputs": [
    {
     "name": "stderr",
     "output_type": "stream",
     "text": [
      "C:\\Users\\khanh\\AppData\\Local\\Temp\\ipykernel_9068\\346898151.py:5: FutureWarning: `multichannel` is a deprecated argument name for `hog`. It will be removed in version 1.0. Please use `channel_axis` instead.\n",
      "  fd, hog_image = hog(image, orientations=9, pixels_per_cell=(8, 8), cells_per_block=(2, 2), visualize=True, multichannel=True)\n",
      "c:\\ProgramData\\Anaconda3\\lib\\site-packages\\skimage\\io\\_plugins\\matplotlib_plugin.py:150: UserWarning: Float image out of standard range; displaying image with stretched contrast.\n",
      "  lo, hi, cmap = _get_display_range(image)\n"
     ]
    },
    {
     "data": {
      "text/plain": [
       "<matplotlib.image.AxesImage at 0x20a3ce9e730>"
      ]
     },
     "execution_count": 3,
     "metadata": {},
     "output_type": "execute_result"
    },
    {
     "data": {
      "image/png": "[encoded data removed]",
      "text/plain": [
       "<Figure size 432x288 with 2 Axes>"
      ]
     },
     "metadata": {
      "needs_background": "light"
     },
     "output_type": "display_data"
    }
   ],
   "source": [
    "from skimage.feature import hog\n",
    "from skimage.io import imread, imshow\n",
    "\n",
    "image = imread('Flower\\\\hoa bướm\\\\hoa bướm01.png')\n",
    "fd, hog_image = hog(image, orientations=9, pixels_per_cell=(8, 8), cells_per_block=(2, 2), visualize=True, multichannel=True)\n",
    "imshow(hog_image)"
   ]
  },
  {
   "cell_type": "code",
   "execution_count": 12,
   "metadata": {},
   "outputs": [
    {
     "data": {
      "text/plain": [
       "(128, 128, 3)"
      ]
     },
     "execution_count": 12,
     "metadata": {},
     "output_type": "execute_result"
    }
   ],
   "source": [
    "np_img.shape"
   ]
  },
  {
   "cell_type": "code",
   "execution_count": 198,
   "metadata": {},
   "outputs": [],
   "source": [
    "def isExist(x, y, row_size, col_size):\n",
    "    if x < 0 or y == col_size or y < 0 or x == row_size:\n",
    "        return False\n",
    "    return True"
   ]
  },
  {
   "cell_type": "code",
   "execution_count": 199,
   "metadata": {},
   "outputs": [],
   "source": [
    "import math"
   ]
  },
  {
   "cell_type": "code",
   "execution_count": 200,
   "metadata": {},
   "outputs": [],
   "source": [
    "class Gradient:\n",
    "    def __init__(self, left=0, right=0, top=0, bottom=0):\n",
    "        self.Gx = right - left\n",
    "        self.Gy = top - bottom\n",
    "        self.total_gradient = math.sqrt(self.Gx * self.Gx + self.Gy * self.Gy)\n",
    "        self.angle = np.arctan2(self.Gy, self.Gx)\n",
    "    \n",
    "    def calculateGradient(image, row_size, col_size):\n",
    "        gradient = []\n",
    "        for row in range(row_size):\n",
    "            gradient.append([])\n",
    "            for col in range(col_size):\n",
    "                gradient[row].append(Gradient())\n",
    "                x_left = row\n",
    "                y_left = col - 1\n",
    "                x_right = row\n",
    "                y_right = col + 1\n",
    "                x_top = row - 1\n",
    "                y_top = col\n",
    "                x_bottom = row + 1\n",
    "                y_bottom = col\n",
    "                for i in range(3):\n",
    "                # i = {\n",
    "                #     0: 'red',\n",
    "                #     1: 'green',\n",
    "                #     2: 'blue',\n",
    "                # }\n",
    "                    if isExist(x_left, y_left, row_size, col_size):\n",
    "                        left = image[x_left][y_left][i].astype(np.int32)\n",
    "                    else:\n",
    "                        left = 0\n",
    "                    if isExist(x_right, y_right, row_size, col_size):\n",
    "                        right = image[x_right][y_right][i].astype(np.int32)\n",
    "                    else:\n",
    "                        right = 0\n",
    "                    if isExist(x_top, y_top, row_size, col_size):\n",
    "                        top = image[x_top][y_top][i].astype(np.int32)\n",
    "                    else:\n",
    "                        top = 0\n",
    "                    if isExist(x_bottom, y_bottom, row_size, col_size):\n",
    "                        bottom = image[x_bottom][y_bottom][i].astype(np.int32)\n",
    "                    else:\n",
    "                        bottom = 0  \n",
    "                    gradient_by_color = Gradient(left, right, top, bottom)\n",
    "                    if gradient[row][col].total_gradient < gradient_by_color.total_gradient:\n",
    "                        gradient[row][col].total_gradient = gradient_by_color.total_gradient\n",
    "                        gradient[row][col].angle = gradient_by_color.angle\n",
    "        return np.array(gradient)\n",
    "    \n",
    "    def __str__(self):\n",
    "        return f\"{self.total_gradient}, {self.angle}\""
   ]
  },
  {
   "cell_type": "code",
   "execution_count": 201,
   "metadata": {},
   "outputs": [],
   "source": [
    "row_size, col_size = np_img.shape[0], np_img.shape[1]\n",
    "gradient = Gradient.calculateGradient(np_img, row_size, col_size)"
   ]
  },
  {
   "cell_type": "code",
   "execution_count": 202,
   "metadata": {},
   "outputs": [],
   "source": [
    "orientations=9\n",
    "pixel_per_cell=(8,8)\n",
    "cells_per_block=(2,2)"
   ]
  },
  {
   "cell_type": "code",
   "execution_count": 203,
   "metadata": {},
   "outputs": [],
   "source": [
    "def getValue(g):\n",
    "    return (g.total_gradient, g.angle)"
   ]
  },
  {
   "cell_type": "code",
   "execution_count": 204,
   "metadata": {},
   "outputs": [],
   "source": [
    "def calculateHistogram(gradient, orientations, pixel_per_cell, row_size, col_size):\n",
    "    histogram = []\n",
    "    histogram_of_row = []\n",
    "    row_start, col_start, row_end, col_end = 0, 0, pixel_per_cell[0], pixel_per_cell[1]\n",
    "    pi_per_orientations = math.pi / orientations\n",
    "    while(True):\n",
    "        histogram_of_cell = [0 for i in range(orientations)]\n",
    "        cell = gradient[row_start:row_end, col_start:col_end]\n",
    "        #chuyển thành 1 chiều\n",
    "        cell = np.ravel(cell)\n",
    "        #chuyển thành mảng chứa 1 mảng total_gradient và 1 mảng chứa angle\n",
    "        vfunc = np.vectorize(getValue)\n",
    "        cell = vfunc(cell)\n",
    "        pi_per_orientations = math.pi / 8\n",
    "        for i in range(len(cell[0])):\n",
    "            total_gradient = cell[0][i]\n",
    "            angle = cell[1][i]\n",
    "            angle_per_pi_per_orientations = angle / pi_per_orientations\n",
    "            left_bin = int(angle_per_pi_per_orientations)\n",
    "            left_angle = left_bin * pi_per_orientations\n",
    "            right_angle = (left_bin + 1) * pi_per_orientations\n",
    "            if angle_per_pi_per_orientations < orientations - 1:\n",
    "                right_bin = left_bin + 1\n",
    "            else:\n",
    "                right_bin = 0\n",
    "            histogram_of_cell[left_bin] += (right_angle - angle) / pi_per_orientations * total_gradient\n",
    "            histogram_of_cell[right_bin] += (angle - left_angle) / pi_per_orientations * total_gradient\n",
    "        histogram_of_row.append(histogram_of_cell)\n",
    "        if col_end < col_size:\n",
    "            col_start = col_end\n",
    "            col_end = col_start + pixel_per_cell[1]\n",
    "        else:\n",
    "            histogram.append(histogram_of_row)\n",
    "            histogram_of_row = []\n",
    "            if row_end < row_size:\n",
    "                row_start = row_end\n",
    "                row_end = row_start + pixel_per_cell[0]\n",
    "                col_start = 0\n",
    "                col_end = pixel_per_cell[1]\n",
    "            else:\n",
    "                break\n",
    "    return np.array(histogram)"
   ]
  },
  {
   "cell_type": "code",
   "execution_count": 205,
   "metadata": {},
   "outputs": [],
   "source": [
    "histogram = calculateHistogram(gradient, orientations, pixel_per_cell, row_size, col_size)"
   ]
  },
  {
   "cell_type": "code",
   "execution_count": 206,
   "metadata": {},
   "outputs": [
    {
     "data": {
      "text/plain": [
       "(16, 16, 9)"
      ]
     },
     "execution_count": 206,
     "metadata": {},
     "output_type": "execute_result"
    }
   ],
   "source": [
    "histogram.shape"
   ]
  },
  {
   "cell_type": "code",
   "execution_count": 207,
   "metadata": {},
   "outputs": [
    {
     "data": {
      "text/plain": [
       "array([0., 0., 0., ..., 0., 0., 0.])"
      ]
     },
     "execution_count": 207,
     "metadata": {},
     "output_type": "execute_result"
    }
   ],
   "source": [
    "vector_features = []\n",
    "row_block_size = histogram.shape[0]\n",
    "col_block_size = histogram.shape[1]\n",
    "row_cell_start, col_cell_start, row_cell_end, col_cell_end = 0, 0, cells_per_block[0], cells_per_block[1]\n",
    "while(True):\n",
    "    block = histogram[row_cell_start:row_cell_end, col_cell_start:col_cell_end]\n",
    "    k = math.sqrt(np.sum(block * block))\n",
    "    if k != 0:\n",
    "        block = block / k\n",
    "    vector_features.append(block)\n",
    "    if col_cell_end < col_block_size:\n",
    "        col_cell_start += 1\n",
    "        col_cell_end += 1\n",
    "    else:\n",
    "        if row_cell_end < row_block_size:\n",
    "            row_cell_start += 1\n",
    "            row_cell_end += 1\n",
    "            col_cell_start = 0\n",
    "            col_cell_end = cells_per_block[1]\n",
    "        else:\n",
    "            break\n",
    "vector_features = np.array(vector_features)\n",
    "fd = vector_features.reshape(-1)\n",
    "fd"
   ]
  },
  {
   "cell_type": "code",
   "execution_count": 208,
   "metadata": {},
   "outputs": [
    {
     "data": {
      "text/plain": [
       "(8100,)"
      ]
     },
     "execution_count": 208,
     "metadata": {},
     "output_type": "execute_result"
    }
   ],
   "source": [
    "fd.shape"
   ]
  },
  {
   "cell_type": "code",
   "execution_count": 4,
   "metadata": {},
   "outputs": [],
   "source": [
    "from Feature import *"
   ]
  },
  {
   "cell_type": "code",
   "execution_count": 5,
   "metadata": {},
   "outputs": [
    {
     "data": {
      "text/plain": [
       "array([0., 0., 0., ..., 0., 0., 0.])"
      ]
     },
     "execution_count": 5,
     "metadata": {},
     "output_type": "execute_result"
    }
   ],
   "source": [
    "feature = Feature()\n",
    "fd = feature.hog(np_img, orientations=9, pixel_per_cell=(8, 8), cells_per_block=(2,2))\n",
    "fd"
   ]
  },
  {
   "cell_type": "code",
   "execution_count": 8,
   "metadata": {},
   "outputs": [
    {
     "data": {
      "text/plain": [
       "(8100,)"
      ]
     },
     "execution_count": 8,
     "metadata": {},
     "output_type": "execute_result"
    }
   ],
   "source": [
    "fd.shape"
   ]
  },
  {
   "cell_type": "code",
   "execution_count": 5,
   "metadata": {},
   "outputs": [],
   "source": [
    "feature = Feature()"
   ]
  },
  {
   "cell_type": "code",
   "execution_count": 5,
   "metadata": {},
   "outputs": [
    {
     "name": "stdout",
     "output_type": "stream",
     "text": [
      "color : (0,)\n",
      "shape : (0,)\n",
      "texture : (0,)\n"
     ]
    }
   ],
   "source": [
    "print(feature)"
   ]
  },
  {
   "cell_type": "code",
   "execution_count": 6,
   "metadata": {},
   "outputs": [
    {
     "data": {
      "text/plain": [
       "array([[0., 0., 0., ..., 0., 0., 0.],\n",
       "       [0., 0., 0., ..., 0., 0., 0.],\n",
       "       [0., 0., 0., ..., 0., 0., 0.],\n",
       "       ...,\n",
       "       [0., 0., 0., ..., 0., 0., 0.],\n",
       "       [0., 0., 0., ..., 0., 0., 0.],\n",
       "       [0., 0., 0., ..., 0., 0., 0.]])"
      ]
     },
     "execution_count": 6,
     "metadata": {},
     "output_type": "execute_result"
    }
   ],
   "source": [
    "gray_image = feature.rbgToGray(np_img)\n",
    "gray_image"
   ]
  },
  {
   "cell_type": "code",
   "execution_count": 6,
   "metadata": {},
   "outputs": [
    {
     "data": {
      "text/plain": [
       "(128, 128)"
      ]
     },
     "execution_count": 6,
     "metadata": {},
     "output_type": "execute_result"
    }
   ],
   "source": [
    "gradient = Gradient.calculateGradient(np_img)\n",
    "gradient.shape"
   ]
  },
  {
   "cell_type": "code",
   "execution_count": 7,
   "metadata": {},
   "outputs": [
    {
     "data": {
      "text/plain": [
       "(16, 16, 9)"
      ]
     },
     "execution_count": 7,
     "metadata": {},
     "output_type": "execute_result"
    }
   ],
   "source": [
    "histogram = feature.calculateHistogramOfGradient(gradient, orientations=9, pixel_per_cell=(8,8))\n",
    "histogram.shape"
   ]
  },
  {
   "cell_type": "code",
   "execution_count": 5,
   "metadata": {},
   "outputs": [
    {
     "data": {
      "text/plain": [
       "array([1, 2, 3, 4, 5, 6, 7, 8, 9])"
      ]
     },
     "execution_count": 5,
     "metadata": {},
     "output_type": "execute_result"
    }
   ],
   "source": [
    "a = np.array ([[1, 2, 3], [4, 5, 6], [7, 8, 9]])\n",
    "a = np.ravel(a)\n",
    "a"
   ]
  },
  {
   "cell_type": "code",
   "execution_count": 10,
   "metadata": {},
   "outputs": [
    {
     "data": {
      "text/plain": [
       "<matplotlib.image.AxesImage at 0x1dc814a3190>"
      ]
     },
     "execution_count": 10,
     "metadata": {},
     "output_type": "execute_result"
    },
    {
     "data": {
      "image/png": "[encoded data removed]",
      "text/plain": [
       "<Figure size 432x288 with 2 Axes>"
      ]
     },
     "metadata": {
      "needs_background": "light"
     },
     "output_type": "display_data"
    }
   ],
   "source": [
    "imshow(gray_image)"
   ]
  },
  {
   "cell_type": "code",
   "execution_count": 13,
   "metadata": {},
   "outputs": [
    {
     "data": {
      "text/plain": [
       "array([[0., 0., 0., ..., 0., 0., 0.],\n",
       "       [0., 0., 0., ..., 0., 0., 0.],\n",
       "       [0., 0., 0., ..., 0., 0., 0.],\n",
       "       ...,\n",
       "       [0., 0., 0., ..., 0., 0., 0.],\n",
       "       [0., 0., 0., ..., 0., 0., 0.],\n",
       "       [0., 0., 0., ..., 0., 0., 0.]])"
      ]
     },
     "execution_count": 13,
     "metadata": {},
     "output_type": "execute_result"
    }
   ],
   "source": [
    "gradient = Gradient()\n",
    "gradient = Gradient.calculateGradient(np_img)\n",
    "image = np.empty((128, 128), dtype=float)\n",
    "for i in range(128):\n",
    "    for j in range(128):\n",
    "        image[i][j] = getValue(gradient[i][j])[0]\n",
    "image"
   ]
  },
  {
   "cell_type": "code",
   "execution_count": 23,
   "metadata": {},
   "outputs": [
    {
     "name": "stderr",
     "output_type": "stream",
     "text": [
      "c:\\ProgramData\\Anaconda3\\lib\\site-packages\\skimage\\io\\_plugins\\matplotlib_plugin.py:150: UserWarning: Float image out of standard range; displaying image with stretched contrast.\n",
      "  lo, hi, cmap = _get_display_range(image)\n"
     ]
    },
    {
     "data": {
      "text/plain": [
       "<matplotlib.image.AxesImage at 0x1605604b6d0>"
      ]
     },
     "execution_count": 23,
     "metadata": {},
     "output_type": "execute_result"
    },
    {
     "data": {
      "image/png": "[encoded data removed]",
      "text/plain": [
       "<Figure size 432x288 with 2 Axes>"
      ]
     },
     "metadata": {
      "needs_background": "light"
     },
     "output_type": "display_data"
    }
   ],
   "source": [
    "imshow(image)"
   ]
  },
  {
   "cell_type": "code",
   "execution_count": 25,
   "metadata": {},
   "outputs": [
    {
     "data": {
      "text/plain": [
       "dtype('float64')"
      ]
     },
     "execution_count": 25,
     "metadata": {},
     "output_type": "execute_result"
    }
   ],
   "source": [
    "a = np.empty((128, 128))\n",
    "a.dtype"
   ]
  },
  {
   "cell_type": "code",
   "execution_count": 11,
   "metadata": {},
   "outputs": [
    {
     "data": {
      "text/plain": [
       "array([[0, 0, 0, ..., 0, 0, 0],\n",
       "       [0, 0, 0, ..., 0, 0, 0],\n",
       "       [0, 0, 0, ..., 0, 0, 0],\n",
       "       ...,\n",
       "       [0, 0, 0, ..., 0, 0, 0],\n",
       "       [0, 0, 0, ..., 0, 0, 0],\n",
       "       [0, 0, 0, ..., 0, 0, 0]], dtype=uint8)"
      ]
     },
     "execution_count": 11,
     "metadata": {},
     "output_type": "execute_result"
    }
   ],
   "source": [
    "lbp_values = feature.calculateLbp(gray_image)\n",
    "lbp_values"
   ]
  },
  {
   "cell_type": "code",
   "execution_count": 12,
   "metadata": {},
   "outputs": [
    {
     "data": {
      "text/plain": [
       "<matplotlib.image.AxesImage at 0x1dc81fb1460>"
      ]
     },
     "execution_count": 12,
     "metadata": {},
     "output_type": "execute_result"
    },
    {
     "data": {
      "image/png": "[encoded data removed]",
      "text/plain": [
       "<Figure size 432x288 with 1 Axes>"
      ]
     },
     "metadata": {
      "needs_background": "light"
     },
     "output_type": "display_data"
    }
   ],
   "source": [
    "imshow(lbp_values)"
   ]
  },
  {
   "cell_type": "code",
   "execution_count": 8,
   "metadata": {},
   "outputs": [
    {
     "data": {
      "text/plain": [
       "array([0., 0., 0., ..., 0., 0., 0.])"
      ]
     },
     "execution_count": 8,
     "metadata": {},
     "output_type": "execute_result"
    }
   ],
   "source": [
    "feature.hog(np_img, orientations=9, pixel_per_cell=(8,8), cells_per_block=(2,2))\n",
    "feature.shape"
   ]
  },
  {
   "cell_type": "code",
   "execution_count": 6,
   "metadata": {},
   "outputs": [
    {
     "data": {
      "text/plain": [
       "array([0.5, 0. , 0. , ..., 0. , 0. , 0. ])"
      ]
     },
     "execution_count": 6,
     "metadata": {},
     "output_type": "execute_result"
    }
   ],
   "source": [
    "feature.lbp(np_img, orientations=8, pixel_per_cell=(8,8), cells_per_block=(2,2))\n",
    "feature.texture"
   ]
  },
  {
   "cell_type": "code",
   "execution_count": 9,
   "metadata": {},
   "outputs": [
    {
     "data": {
      "text/plain": [
       "array([0, 1])"
      ]
     },
     "execution_count": 9,
     "metadata": {},
     "output_type": "execute_result"
    }
   ],
   "source": [
    "int_hog = hog.astype(np.int32)\n",
    "a = np.unique(int_hog)\n",
    "a"
   ]
  },
  {
   "cell_type": "code",
   "execution_count": 5,
   "metadata": {},
   "outputs": [
    {
     "name": "stdout",
     "output_type": "stream",
     "text": [
      "color : (0,)\n",
      "shape : (8100,)\n",
      "texture : (0,)\n"
     ]
    }
   ],
   "source": [
    "print(feature)"
   ]
  },
  {
   "cell_type": "code",
   "execution_count": 7,
   "metadata": {},
   "outputs": [
    {
     "name": "stdout",
     "output_type": "stream",
     "text": [
      "ok\n"
     ]
    },
    {
     "data": {
      "text/plain": [
       "array([0., 0., 0., ..., 0., 0., 0.])"
      ]
     },
     "execution_count": 7,
     "metadata": {},
     "output_type": "execute_result"
    }
   ],
   "source": [
    "fd = feature.hog(gray_image, orientations=9, cells_per_block=(2, 2), pixel_per_cell=(8,8))\n",
    "fd"
   ]
  },
  {
   "cell_type": "code",
   "execution_count": 7,
   "metadata": {},
   "outputs": [
    {
     "data": {
      "text/plain": [
       "(2, 3)"
      ]
     },
     "execution_count": 7,
     "metadata": {},
     "output_type": "execute_result"
    }
   ],
   "source": [
    "a = np.array ([[1.2, 3.4, 5.6], [7.8, 9.0, 10.1]])\n",
    "a.shape"
   ]
  },
  {
   "cell_type": "code",
   "execution_count": 11,
   "metadata": {},
   "outputs": [
    {
     "data": {
      "text/plain": [
       "array([[[ 1.2],\n",
       "        [ 3.4],\n",
       "        [ 5.6]],\n",
       "\n",
       "       [[ 7.8],\n",
       "        [ 9. ],\n",
       "        [10.1]]])"
      ]
     },
     "execution_count": 11,
     "metadata": {},
     "output_type": "execute_result"
    }
   ],
   "source": [
    "a = a.reshape(2,3,1)\n",
    "a"
   ]
  },
  {
   "cell_type": "code",
   "execution_count": 10,
   "metadata": {},
   "outputs": [
    {
     "data": {
      "text/plain": [
       "(2, 3)"
      ]
     },
     "execution_count": 10,
     "metadata": {},
     "output_type": "execute_result"
    }
   ],
   "source": [
    "a.shape"
   ]
  },
  {
   "cell_type": "code",
   "execution_count": 33,
   "metadata": {},
   "outputs": [],
   "source": [
    "from Feature import *\n",
    "import json \n",
    "from PIL import Image\n",
    "import numpy as np"
   ]
  },
  {
   "cell_type": "code",
   "execution_count": 42,
   "metadata": {},
   "outputs": [],
   "source": [
    "with open('data.json', 'r') as f:\n",
    "    data = json.load(f)\n",
    "feature = Feature()"
   ]
  },
  {
   "cell_type": "code",
   "execution_count": 85,
   "metadata": {},
   "outputs": [],
   "source": [
    "image = Image.open('test\\\\hoa thủy tiên.png').resize((128, 128))\n",
    "image = np.array(image)\n",
    "\n",
    "color_feature_of_test = feature.color_histogram(image)\n",
    "hog_feature_of_test = feature.hog(image)\n",
    "\n",
    "list_distance = []"
   ]
  },
  {
   "cell_type": "code",
   "execution_count": 86,
   "metadata": {},
   "outputs": [],
   "source": [
    "for record in data['data']:\n",
    "    label = record['label']\n",
    "    color_feature_of_train = np.array(record['color_feature'])\n",
    "    hog_feature_of_train = np.array(record['hog_feature'])\n",
    "    \n",
    "    distance_color = feature.distanceEuclidean(color_feature_of_test, color_feature_of_train)\n",
    "    distance_hog = feature.distanceEuclidean(hog_feature_of_test, hog_feature_of_train)\n",
    "    distance = distance_color + distance_hog\n",
    "    distance = distance_hog\n",
    "    list_distance.append((label, distance))\n",
    "\n",
    "list_distance.sort(key=lambda x: x[1])\n",
    "list_distance = list_distance[:5]"
   ]
  },
  {
   "cell_type": "code",
   "execution_count": 87,
   "metadata": {},
   "outputs": [
    {
     "data": {
      "text/plain": [
       "[('hoa bướm', 14.014643990177941),\n",
       " ('hoa hướng dương', 14.15463987549102),\n",
       " ('hoa đồng tiền', 14.2266819525383),\n",
       " ('hoa đồng tiền', 14.304744960842667),\n",
       " ('hoa hướng dương', 14.44026240889515)]"
      ]
     },
     "execution_count": 87,
     "metadata": {},
     "output_type": "execute_result"
    }
   ],
   "source": [
    "list_distance"
   ]
  },
  {
   "cell_type": "code",
   "execution_count": null,
   "metadata": {},
   "outputs": [],
   "source": []
  }
 ],
 "metadata": {
  "kernelspec": {
   "display_name": "base",
   "language": "python",
   "name": "python3"
  },
  "language_info": {
   "codemirror_mode": {
    "name": "ipython",
    "version": 3
   },
   "file_extension": ".py",
   "mimetype": "text/x-python",
   "name": "python",
   "nbconvert_exporter": "python",
   "pygments_lexer": "ipython3",
   "version": "3.9.12"
  },
  "orig_nbformat": 4
 },
 "nbformat": 4,
 "nbformat_minor": 2
}
